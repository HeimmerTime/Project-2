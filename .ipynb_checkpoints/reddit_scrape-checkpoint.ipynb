{
 "cells": [
  {
   "cell_type": "code",
   "execution_count": 28,
   "metadata": {},
   "outputs": [],
   "source": [
    "#Import Packages\n",
    "import requests\n",
    "import pandas as pd\n",
    "import datetime as dt\n",
    "import praw"
   ]
  },
  {
   "cell_type": "code",
   "execution_count": 32,
   "metadata": {},
   "outputs": [],
   "source": [
    "#Access the Reddit API\n",
    "reddit = praw.Reddit(client_id = 's46cB0O1CjDLeg',\n",
    "                    client_secret = 'OnU58KhDJdZzqgdpaDLfsSQ723PG9w',\n",
    "                    password = '?xkk5^H,Q_ZaF+m',\n",
    "                    user_agent = 'Personal use for keyword analysis.',\n",
    "                    username = 'crownds18')"
   ]
  },
  {
   "cell_type": "code",
   "execution_count": 33,
   "metadata": {},
   "outputs": [],
   "source": [
    "#Choosing most actively discussed subreddit\n",
    "subreddit = ['investing']\n",
    "\n",
    "for s in subreddit:\n",
    "    subreddit = reddit.subreddit(s)\n",
    "    \n",
    "#btc_sub = ['Bitcoin']\n",
    "\n",
    "#for b in btc_sub:\n",
    "\n",
    "    #btc_sub_red = reddit.btc_sub(b)\n"
   ]
  },
  {
   "cell_type": "code",
   "execution_count": 34,
   "metadata": {},
   "outputs": [],
   "source": [
    "#Creating a dictionary of topics and data\n",
    "\n",
    "#Choosing most actively discussed subreddit\n",
    "sub = ['investing']\n",
    "\n",
    "for s in sub:\n",
    "    \n",
    "    subreddit = reddit.subreddit(s)   # Chosing the subreddit\n",
    "    \n",
    "    investing_info = ['investing']\n",
    "\n",
    "    for item in investing_info:\n",
    "        post = {\n",
    "            \"title\" : [],   #title of the post\n",
    "            \"score\" : [],   # score of the post\n",
    "            \"id\" : [],      # unique id of the post\n",
    "            \"url\" : [],     #url of the post\n",
    "            \"comms_num\": [],   #the number of comments on the post\n",
    "            \"created\" : [],  #timestamp of the post\n",
    "            \"body\" : []         # the descriptionof post\n",
    "        }\n",
    "        comments = {\n",
    "            \"comment_id\" : [],      #unique comm id\n",
    "            \"comment_parent_id\" : [],   # comment parent id\n",
    "            \"comment_body\" : [],   # text in comment\n",
    "            \"comment_link_id\" : []  #link to the comment\n",
    "        }\n",
    "        for submission in subreddit.search(investing_info,sort = \"top\",limit = 1):\n",
    "            post[\"title\"].append(submission.title)\n",
    "            post[\"score\"].append(submission.score)\n",
    "            post[\"id\"].append(submission.id)\n",
    "            post[\"url\"].append(submission.url)\n",
    "            post[\"comms_num\"].append(submission.num_comments)\n",
    "            post[\"created\"].append(submission.created)\n",
    "            post[\"body\"].append(submission.selftext)\n",
    "            \n",
    "            ##### Acessing comments on the post\n",
    "            submission.comments.replace_more(limit = 1)\n",
    "            for comment in submission.comments.list():\n",
    "                comments[\"comment_id\"].append(comment.id)\n",
    "                comments[\"comment_parent_id\"].append(comment.parent_id)\n",
    "                comments[\"comment_body\"].append(comment.body)\n",
    "                comments[\"comment_link_id\"].append(comment.link_id)\n",
    "        \n",
    "        investing_comments = pd.DataFrame(comments)\n",
    "\n",
    "        investing_comments.to_csv(s+\"_comments_\"+ item +\"subreddit.csv\")\n",
    "        investing_post_data = pd.DataFrame(post)\n",
    "        investing_post_data.to_csv(s+\"_\"+ item +\"subreddit.csv\")\n",
    "        \n"
   ]
  },
  {
   "cell_type": "code",
   "execution_count": null,
   "metadata": {},
   "outputs": [],
   "source": []
  },
  {
   "cell_type": "code",
   "execution_count": null,
   "metadata": {},
   "outputs": [],
   "source": []
  }
 ],
 "metadata": {
  "kernelspec": {
   "display_name": "Python [conda env:pyvizenv] *",
   "language": "python",
   "name": "conda-env-pyvizenv-py"
  },
  "language_info": {
   "codemirror_mode": {
    "name": "ipython",
    "version": 3
   },
   "file_extension": ".py",
   "mimetype": "text/x-python",
   "name": "python",
   "nbconvert_exporter": "python",
   "pygments_lexer": "ipython3",
   "version": "3.7.9"
  }
 },
 "nbformat": 4,
 "nbformat_minor": 4
}
