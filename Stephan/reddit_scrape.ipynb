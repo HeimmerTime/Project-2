{
 "cells": [
  {
   "cell_type": "code",
   "execution_count": 3,
   "metadata": {},
   "outputs": [],
   "source": [
    "#Import Packages\n",
    "import requests\n",
    "import pandas as pd\n",
    "import datetime as dt\n",
    "import praw"
   ]
  },
  {
   "cell_type": "code",
   "execution_count": 4,
   "metadata": {},
   "outputs": [
    {
     "name": "stderr",
     "output_type": "stream",
     "text": [
      "Version 7.2.0 of praw is outdated. Version 7.4.0 was released 1 day ago.\n"
     ]
    }
   ],
   "source": [
    "#Access the Reddit API\n",
    "reddit = praw.Reddit(client_id = 's46cB0O1CjDLeg',\n",
    "                    client_secret = 'OnU58KhDJdZzqgdpaDLfsSQ723PG9w',\n",
    "                    password = '?xkk5^H,Q_ZaF+m',\n",
    "                    user_agent = 'Personal use for keyword analysis.',\n",
    "                    username = 'crownds18')"
   ]
  },
  {
   "cell_type": "code",
   "execution_count": 5,
   "metadata": {},
   "outputs": [],
   "source": [
    "#Choosing most actively discussed subreddit\n",
    "subreddit = ['ethtrader', 'ethereum', 'ethfinance']\n",
    "\n",
    "for s in subreddit:\n",
    "    subreddit = reddit.subreddit(s)\n",
    "    \n",
    "#btc_sub = ['Bitcoin']\n",
    "\n",
    "#for b in btc_sub:\n",
    "\n",
    "    #btc_sub_red = reddit.btc_sub(b)\n"
   ]
  },
  {
   "cell_type": "code",
   "execution_count": 8,
   "metadata": {},
   "outputs": [],
   "source": [
    "#Creating a dictionary of topics and data\n",
    "#Choosing most actively discussed subreddit\n",
    "data = ['All']\n",
    "\n",
    "for item in data:\n",
    "        post = {\n",
    "            \"title\" : [],   #title of the post\n",
    "            \"score\" : [],   # score of the post\n",
    "            \"id\" : [],      # unique id of the post\n",
    "            \"url\" : [],     #url of the post\n",
    "            \"comms_num\": [],   #the number of comments on the post\n",
    "            \"created\" : [],  #timestamp of the post\n",
    "            \"body\" : []         # the descriptionof post\n",
    "        }\n",
    "        comments = {\n",
    "            \"comment_id\" : [],      #unique comm id\n",
    "            \"comment_parent_id\" : [],   # comment parent id\n",
    "            \"comment_body\" : [],   # text in comment\n",
    "            \"comment_link_id\" : []  #link to the comment\n",
    "        }\n",
    "        for submission in subreddit.search(data,sort = \"all\",limit = 1):\n",
    "            post[\"title\"].append(submission.title)\n",
    "            post[\"score\"].append(submission.score)\n",
    "            post[\"id\"].append(submission.id)\n",
    "            post[\"url\"].append(submission.url)\n",
    "            post[\"comms_num\"].append(submission.num_comments)\n",
    "            post[\"created\"].append(submission.created)\n",
    "            post[\"body\"].append(submission.selftext)\n",
    "            \n",
    "            ##### Acessing comments on the post\n",
    "            submission.comments.replace_more(limit = 1)\n",
    "            for comment in submission.comments.list():\n",
    "                comments[\"comment_id\"].append(comment.id)\n",
    "                comments[\"comment_parent_id\"].append(comment.parent_id)\n",
    "                comments[\"comment_body\"].append(comment.body)\n",
    "                comments[\"comment_link_id\"].append(comment.link_id)\n",
    "        \n",
    "        eth_discussion = pd.DataFrame(comments)\n",
    "\n",
    "        #eth_discussion.to_csv(s+\"_comments_\"+ item +\"subreddit.csv\")\n",
    "        eth_post = pd.DataFrame(post)\n",
    "        #eth_discussion_data.to_csv(s+\"_\"+ item +\"subreddit.csv\")\n",
    "        \n"
   ]
  },
  {
   "cell_type": "code",
   "execution_count": 9,
   "metadata": {},
   "outputs": [
    {
     "data": {
      "text/html": [
       "<div>\n",
       "<style scoped>\n",
       "    .dataframe tbody tr th:only-of-type {\n",
       "        vertical-align: middle;\n",
       "    }\n",
       "\n",
       "    .dataframe tbody tr th {\n",
       "        vertical-align: top;\n",
       "    }\n",
       "\n",
       "    .dataframe thead th {\n",
       "        text-align: right;\n",
       "    }\n",
       "</style>\n",
       "<table border=\"1\" class=\"dataframe\">\n",
       "  <thead>\n",
       "    <tr style=\"text-align: right;\">\n",
       "      <th></th>\n",
       "      <th>title</th>\n",
       "      <th>score</th>\n",
       "      <th>id</th>\n",
       "      <th>url</th>\n",
       "      <th>comms_num</th>\n",
       "      <th>created</th>\n",
       "      <th>body</th>\n",
       "    </tr>\n",
       "  </thead>\n",
       "  <tbody>\n",
       "    <tr>\n",
       "      <th>0</th>\n",
       "      <td>Less than 12h to go for the EIP-1559 NFT aucti...</td>\n",
       "      <td>79</td>\n",
       "      <td>osu6oy</td>\n",
       "      <td>https://twitter.com/StatefulWorks/status/14201...</td>\n",
       "      <td>3</td>\n",
       "      <td>1.627417e+09</td>\n",
       "      <td></td>\n",
       "    </tr>\n",
       "  </tbody>\n",
       "</table>\n",
       "</div>"
      ],
      "text/plain": [
       "                                               title  score      id  \\\n",
       "0  Less than 12h to go for the EIP-1559 NFT aucti...     79  osu6oy   \n",
       "\n",
       "                                                 url  comms_num       created  \\\n",
       "0  https://twitter.com/StatefulWorks/status/14201...          3  1.627417e+09   \n",
       "\n",
       "  body  \n",
       "0       "
      ]
     },
     "execution_count": 9,
     "metadata": {},
     "output_type": "execute_result"
    }
   ],
   "source": [
    "eth_post"
   ]
  },
  {
   "cell_type": "code",
   "execution_count": 10,
   "metadata": {},
   "outputs": [
    {
     "data": {
      "text/html": [
       "<div>\n",
       "<style scoped>\n",
       "    .dataframe tbody tr th:only-of-type {\n",
       "        vertical-align: middle;\n",
       "    }\n",
       "\n",
       "    .dataframe tbody tr th {\n",
       "        vertical-align: top;\n",
       "    }\n",
       "\n",
       "    .dataframe thead th {\n",
       "        text-align: right;\n",
       "    }\n",
       "</style>\n",
       "<table border=\"1\" class=\"dataframe\">\n",
       "  <thead>\n",
       "    <tr style=\"text-align: right;\">\n",
       "      <th></th>\n",
       "      <th>comment_id</th>\n",
       "      <th>comment_parent_id</th>\n",
       "      <th>comment_body</th>\n",
       "      <th>comment_link_id</th>\n",
       "    </tr>\n",
       "  </thead>\n",
       "  <tbody>\n",
       "    <tr>\n",
       "      <th>0</th>\n",
       "      <td>h6t7uc3</td>\n",
       "      <td>t3_osu6oy</td>\n",
       "      <td>I’m sure these NFTs are used for a different r...</td>\n",
       "      <td>t3_osu6oy</td>\n",
       "    </tr>\n",
       "  </tbody>\n",
       "</table>\n",
       "</div>"
      ],
      "text/plain": [
       "  comment_id comment_parent_id  \\\n",
       "0    h6t7uc3         t3_osu6oy   \n",
       "\n",
       "                                        comment_body comment_link_id  \n",
       "0  I’m sure these NFTs are used for a different r...       t3_osu6oy  "
      ]
     },
     "execution_count": 10,
     "metadata": {},
     "output_type": "execute_result"
    }
   ],
   "source": [
    "eth_discussion"
   ]
  },
  {
   "cell_type": "code",
   "execution_count": null,
   "metadata": {},
   "outputs": [],
   "source": []
  }
 ],
 "metadata": {
  "kernelspec": {
   "display_name": "Python [conda env:pyvizenv] *",
   "language": "python",
   "name": "conda-env-pyvizenv-py"
  },
  "language_info": {
   "codemirror_mode": {
    "name": "ipython",
    "version": 3
   },
   "file_extension": ".py",
   "mimetype": "text/x-python",
   "name": "python",
   "nbconvert_exporter": "python",
   "pygments_lexer": "ipython3",
   "version": "3.7.9"
  }
 },
 "nbformat": 4,
 "nbformat_minor": 4
}
